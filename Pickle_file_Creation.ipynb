{
  "nbformat": 4,
  "nbformat_minor": 0,
  "metadata": {
    "colab": {
      "provenance": []
    },
    "kernelspec": {
      "name": "python3",
      "display_name": "Python 3"
    },
    "language_info": {
      "name": "python"
    }
  },
  "cells": [
    {
      "cell_type": "code",
      "metadata": {
        "id": "Mca5DjYayLL2"
      },
      "source": [
        "import pickle"
      ],
      "execution_count": null,
      "outputs": []
    },
    {
      "cell_type": "code",
      "metadata": {
        "id": "yvCBQPOPpw9i"
      },
      "source": [
        "dict_a = {'I':1, 'II':2, 'III':3}\n",
        "pickle.dump(dict_a, open('test-pickle.pkl', 'wb'))"
      ],
      "execution_count": null,
      "outputs": []
    },
    {
      "cell_type": "code",
      "metadata": {
        "colab": {
          "base_uri": "https://localhost:8080/"
        },
        "id": "dF-R3GHDqOrp",
        "outputId": "35d1d772-8f0d-4319-fcfe-5bce25900b28"
      },
      "source": [
        "my_dictionary = pickle.load(open('./test-pickle.pkl', 'rb'))\n",
        "my_dictionary\n"
      ],
      "execution_count": null,
      "outputs": [
        {
          "output_type": "execute_result",
          "data": {
            "text/plain": [
              "{'I': 1, 'II': 2, 'III': 3}"
            ]
          },
          "metadata": {},
          "execution_count": 3
        }
      ]
    },
    {
      "cell_type": "code",
      "metadata": {
        "id": "-cgVZIg27YiP"
      },
      "source": [
        "infile = open('./test-pickle.pkl','rb')\n",
        "new_dictionary = pickle.load(infile, encoding='latin1')"
      ],
      "execution_count": 4,
      "outputs": []
    },
    {
      "cell_type": "code",
      "metadata": {
        "colab": {
          "base_uri": "https://localhost:8080/"
        },
        "id": "GXpxucIx7hc8",
        "outputId": "b93b8444-af96-46d8-b92c-8a148814aff3"
      },
      "source": [
        "new_dictionary"
      ],
      "execution_count": 5,
      "outputs": [
        {
          "output_type": "execute_result",
          "data": {
            "text/plain": [
              "{'I': 1, 'II': 2, 'III': 3}"
            ]
          },
          "metadata": {},
          "execution_count": 5
        }
      ]
    },
    {
      "cell_type": "code",
      "source": [
        "# As part of pandas there is a read_pickle function \n",
        "\n",
        "import pandas as pd\n",
        "\n",
        "obj = pd.read_pickle(r'/content/test-pickle.pkl')\n",
        "obj"
      ],
      "metadata": {
        "colab": {
          "base_uri": "https://localhost:8080/"
        },
        "id": "LCSOZAqmzIYF",
        "outputId": "ee3dd9fe-f54b-4ed4-aca5-e7dd6406f6ec"
      },
      "execution_count": 7,
      "outputs": [
        {
          "output_type": "execute_result",
          "data": {
            "text/plain": [
              "{'I': 1, 'II': 2, 'III': 3}"
            ]
          },
          "metadata": {},
          "execution_count": 7
        }
      ]
    }
  ]
}